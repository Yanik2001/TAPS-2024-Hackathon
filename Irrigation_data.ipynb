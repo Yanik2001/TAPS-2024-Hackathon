{
 "cells": [
  {
   "cell_type": "code",
   "execution_count": 1,
   "id": "aff6bd8d-201a-4585-b627-c1109218dc02",
   "metadata": {
    "tags": []
   },
   "outputs": [],
   "source": [
    "import pandas as pd\n",
    "\n",
    "# Load the necessary datasets\n",
    "precip_df = pd.read_excel('Daily_Colby_Mesonet.xlsx', usecols=['Timestamp', 'Precipitation'])\n",
    "texture_df = pd.read_excel('24 KSU TAPS Soil texture.xlsx', skiprows=1)\n",
    "ET_mesonet = pd.read_excel('ET_Grass_Mesonet.xlsx')\n",
    "ET_mesonet = ET_mesonet.drop([0, 1], axis=0)\n",
    "ET_mesonet = ET_mesonet.rename(columns={\"ETo\": \"ETo Grass(mm)\"})\n",
    "ET_mesonet = ET_mesonet.rename(columns={\"ETo.1\": \"ETo Alfalfa(mm)\"})\n",
    "ET_mesonet = ET_mesonet.rename(columns={\"Precipitation\": \"Precipitation\"})\n",
    "\n",
    "\n",
    "Team_Plot_ID = pd.read_excel('team_plot_data.xlsx')\n"
   ]
  },
  {
   "cell_type": "code",
   "execution_count": null,
   "id": "0475ac43-f066-4aed-9855-3dfe3eaa4f9d",
   "metadata": {
    "tags": []
   },
   "outputs": [],
   "source": [
    "import pandas as pd\n",
    "\n",
    "# Define the path to the Excel file\n",
    "file_path_sentek = '/Users/yaniksitta/albirro_project/24 KSU TAPS Sentek.xlsx'\n",
    "\n",
    "# Load the Excel file\n",
    "excel_file_sentek = pd.ExcelFile(file_path_sentek)\n",
    "\n",
    "# Initialize an empty list to hold the data from each worksheet\n",
    "all_sheets_sentek = []\n",
    "\n",
    "# Iterate over each sheet in the Excel file\n",
    "for sheet_name_sentek in excel_file_sentek.sheet_names:\n",
    "    # Read the sheet, skipping the first two rows\n",
    "    sheet_data_sentek = pd.read_excel(file_path_sentek, sheet_name=sheet_name_sentek, skiprows=2)\n",
    "    \n",
    "    # Remove the \" C\" from the column names if present\n",
    "    sheet_data_sentek.columns = [col.replace(\" C\", \"\")\n",
    "                                     .replace(\"Temp Sensor #6 (55 cm)\", \"Temp. Sensor #6 (55 cm)\")\n",
    "                                 for col in sheet_data_sentek.columns]\n",
    "    \n",
    "    # Add a new column with the sheet name (Team Number)\n",
    "    sheet_data_sentek['Team Number'] = sheet_name_sentek\n",
    "    \n",
    "    # Append the sheet data to the list\n",
    "    all_sheets_sentek.append(sheet_data_sentek)\n",
    "\n",
    "# Combine all sheets into a single DataFrame\n",
    "combined_sentek = pd.concat(all_sheets_sentek, ignore_index=True)\n",
    "\n",
    "# Remove all rows where column V1 value is -1\n",
    "combined_sentek = combined_sentek[combined_sentek[\"V1\"] != -1]\n"
   ]
  },
  {
   "cell_type": "code",
   "execution_count": null,
   "id": "a94d65e4-5ad0-4318-baa5-b48cfd2cc8e6",
   "metadata": {
    "tags": []
   },
   "outputs": [],
   "source": [
    "filtered_combined_sentek = combined_sentek.loc[:, [\"Timestamp\", \"Sensor #1 (5 cm)\", \"Sensor #2 (15 cm)\", \"Sensor #3 (25 cm)\", \"Team Number\"]]\n",
    "\n",
    "# Round 'Timestamp' to the nearest hour\n",
    "filtered_combined_sentek['Timestamp'] = pd.to_datetime(filtered_combined_sentek['Timestamp'])\n",
    "filtered_combined_sentek['Rounded Timestamp'] = filtered_combined_sentek['Timestamp'].dt.round('H')\n",
    "\n",
    "# Group by 'Rounded Timestamp' and 'Team Number', then calculate the mean for sensor columns\n",
    "grouped_filtered_combined_sentek = filtered_combined_sentek.groupby(['Rounded Timestamp', 'Team Number']).agg({\n",
    "    'Sensor #1 (5 cm)': 'mean',\n",
    "    'Sensor #2 (15 cm)': 'mean',\n",
    "    'Sensor #3 (25 cm)': 'mean'\n",
    "}).reset_index()\n",
    "\n",
    "# Calculate the weighted volumetric water content (VWC)\n",
    "grouped_filtered_combined_sentek['Weighted VWC'] = (\n",
    "    grouped_filtered_combined_sentek['Sensor #1 (5 cm)'] * 0.75 +\n",
    "    grouped_filtered_combined_sentek['Sensor #2 (15 cm)'] * 0.15 +\n",
    "    grouped_filtered_combined_sentek['Sensor #3 (25 cm)'] * 0.1\n",
    ")\n",
    "\n",
    "# Define a function to determine the time of day\n",
    "def get_time_of_day(timestamp):\n",
    "    hour = timestamp.hour\n",
    "    if 6 <= hour < 10:\n",
    "        return 'Morning'\n",
    "    elif 10 <= hour < 19:\n",
    "        return 'Daytime'\n",
    "    else:\n",
    "        return 'Night'\n",
    "\n",
    "# Apply the function to create a 'Time of Day' column\n",
    "grouped_filtered_combined_sentek['Time of Day'] = grouped_filtered_combined_sentek['Rounded Timestamp'].apply(get_time_of_day)\n",
    "\n",
    "# Extract the date from the rounded timestamp\n",
    "grouped_filtered_combined_sentek['Timestamp'] = grouped_filtered_combined_sentek['Rounded Timestamp'].dt.date\n",
    "\n",
    "# Group by 'Date', 'Time of Day', and 'Team Number', then calculate the mean for sensor columns\n",
    "grouped_by_time_of_day = grouped_filtered_combined_sentek.groupby(['Timestamp', 'Time of Day', 'Team Number']).agg({\n",
    "    'Sensor #1 (5 cm)': 'mean',\n",
    "    'Sensor #2 (15 cm)': 'mean',\n",
    "    'Sensor #3 (25 cm)': 'mean',\n",
    "    'Weighted VWC': 'mean'\n",
    "}).reset_index()\n",
    "\n",
    "# Display the resulting dataframes\n",
    "grouped_filtered_combined_sentek\n"
   ]
  },
  {
   "cell_type": "code",
   "execution_count": null,
   "id": "5535041e-2e48-4f52-b65c-ca6ebd29139a",
   "metadata": {
    "tags": []
   },
   "outputs": [],
   "source": [
    "time_of_day_weights = {\n",
    "    'Morning': 0.25,\n",
    "    'Daytime': 0.6,\n",
    "    'Night': 0.15\n",
    "}\n",
    "\n",
    "# Calculate the weighted average of 'Weighted VWC' for each date\n",
    "weighted_VWC = grouped_by_time_of_day.groupby(['Timestamp', 'Team Number']).apply(\n",
    "    lambda x: (x['Weighted VWC'] * x['Time of Day'].map(time_of_day_weights)).sum() / x['Time of Day'].map(time_of_day_weights).sum()\n",
    ").reset_index(name='Weighted Average VWC')\n",
    "\n",
    "weighted_VWC['Team Number'] = weighted_VWC['Team Number'].str.extract('(\\d+)').astype(int)\n",
    "# Display the resulting dataframe\n",
    "weighted_VWC\n"
   ]
  },
  {
   "cell_type": "code",
   "execution_count": null,
   "id": "3d0e7550-5577-405f-b7c7-906d895a9fbd",
   "metadata": {
    "tags": []
   },
   "outputs": [],
   "source": [
    "texture_df = texture_df[texture_df[\"Sample Depth (in)\"].isin([\"0 - 12\", \"3 - 9\", \"4 - 9\"])]\n",
    "texture_df = texture_df.drop(columns=[\"Lat\", \"Lng\"])\n",
    "\n",
    "\n",
    "#Soil Water Capacity\n",
    "#texture_df = pd.merge(texture_df, Team_Plot_ID, on='Plot ID', how='inner')\n",
    "texture_df = texture_df.merge(Team_Plot_ID[['Plot ID', 'Team Number']], on='Plot ID', how='left')\n",
    "\n",
    "texture_df"
   ]
  },
  {
   "cell_type": "code",
   "execution_count": null,
   "id": "95f474ef-6c0b-4c96-ae9d-b8a4f9830847",
   "metadata": {
    "tags": []
   },
   "outputs": [],
   "source": [
    "merged_df = pd.merge(weighted_VWC, texture_df, on='Team Number', how='inner')\n",
    "\n",
    "merged_df"
   ]
  },
  {
   "cell_type": "code",
   "execution_count": null,
   "id": "2a6ad3c5-9374-4ce1-bcb5-3bbe3467e2e8",
   "metadata": {},
   "outputs": [],
   "source": [
    "ET_mesonet['Timestamp'] = pd.to_datetime(ET_mesonet['Timestamp']).dt.date\n",
    "\n",
    "merged_df = pd.merge(merged_df, ET_mesonet, on='Timestamp', how='inner')\n",
    "merged_df"
   ]
  },
  {
   "cell_type": "code",
   "execution_count": null,
   "id": "6671822c-fdbe-4e67-a250-d0f46da96ef7",
   "metadata": {
    "tags": []
   },
   "outputs": [],
   "source": [
    "import numpy as np\n",
    "merged_df['PWP (%)'] = (((0.14) + (0.0033 * merged_df['Clay (%)'])) - (0.0022 * merged_df['Sand (%)']) + (0.0006 * merged_df['OMC (%) ']))*100\n",
    "merged_df['Field Capacity (%)'] = ((0.31 + (0.0017 * merged_df['Clay (%)'])) - (0.0036 * merged_df['Sand (%)']) + (0.001 * merged_df['OMC (%) ']))*100\n",
    "merged_df['Field Capacity (mm)'] = ((merged_df['Field Capacity (%)']/100)*135)\n",
    "merged_df['Soil Water Storage (mm)'] = (merged_df['Weighted Average VWC']/100)*135\n",
    "merged_df['Soil Water Depletion'] = (merged_df['Field Capacity (mm)'] - merged_df['Soil Water Storage (mm)'])\n",
    "merged_df['Adjusted SWD'] = (merged_df['Soil Water Depletion'] + merged_df['Precipitation'])\n",
    "merged_df['Crop Coefficient Corn (Kc)'] = (1.15)\n",
    "merged_df['Evapotranspiration Corn (ET-Corn)'] = (merged_df['ETo Grass(mm)'] * merged_df['Crop Coefficient Corn (Kc)'])\n",
    "merged_df['Total Water Needed based on Corn Kc'] = (merged_df['Evapotranspiration Corn (ET-Corn)'] + merged_df['Adjusted SWD'])\n",
    "merged_df['Total Water Needed based on Corn Kc'] = np.where(merged_df['Total Water Needed based on Corn Kc'] < 0, 0, merged_df['Total Water Needed based on Corn Kc'])\n",
    "merged_df['Recommended Irrigation'] = merged_df['Total Water Needed based on Corn Kc'] - merged_df['Precipitation']\n",
    "merged_df['Recommended Irrigation'] = np.where(merged_df['Recommended Irrigation'] < 0, 0, merged_df['Recommended Irrigation'])\n",
    "\n",
    "\n",
    "merged_df"
   ]
  },
  {
   "cell_type": "code",
   "execution_count": null,
   "id": "280c6af2-848a-443a-ad22-a76e14bb07e6",
   "metadata": {
    "tags": []
   },
   "outputs": [],
   "source": [
    "output_path = 'merged_df_TERMINADO.xlsx'\n",
    "merged_df.to_excel(output_path, index=False)"
   ]
  },
  {
   "cell_type": "code",
   "execution_count": null,
   "id": "e068a6a5-d92d-44e5-b37f-62efdc7d2e04",
   "metadata": {
    "tags": []
   },
   "outputs": [],
   "source": [
    "import pandas as pd\n",
    "import plotly.graph_objects as go\n",
    "import panel as pn\n",
    "\n",
    "# Enable Panel extension\n",
    "pn.extension(sizing_mode='stretch_width')\n",
    "\n",
    "# Use the merged DataFrame 'merged_df'\n",
    "irrigation_data = merged_df.copy()\n",
    "\n",
    "# Convert 'Timestamp' to datetime if it's not already\n",
    "irrigation_data['Timestamp'] = pd.to_datetime(irrigation_data['Timestamp'])\n",
    "\n",
    "# Remove duplicate timestamps for the same irrigation recommendation from irrigation_data\n",
    "irrigation_data = irrigation_data.sort_values('Timestamp').drop_duplicates(subset=['Timestamp'], keep='first')\n",
    "\n",
    "# Create a list of unique team numbers\n",
    "team_numbers = irrigation_data['Team Number'].unique()\n",
    "\n",
    "# Create a dropdown menu for Team Numbers\n",
    "team_selector = pn.widgets.Select(name='Select Team Number', options=team_numbers.tolist(), value=team_numbers[0])\n",
    "\n",
    "# Create a date range slider for selecting timestamps\n",
    "date_range_slider = pn.widgets.DateRangeSlider(name='Date Range', \n",
    "                                               start=irrigation_data['Timestamp'].min(), \n",
    "                                               end=irrigation_data['Timestamp'].max(), \n",
    "                                               value=(irrigation_data['Timestamp'].min(), irrigation_data['Timestamp'].max()))\n",
    "\n",
    "# Function to update the graph based on the selected team and date range\n",
    "def update_graph(selected_team, date_range):\n",
    "    # Create an empty figure\n",
    "    fig = go.Figure()\n",
    "\n",
    "    # Filter data for the selected team and date range\n",
    "    filtered_data = irrigation_data[\n",
    "        (irrigation_data['Team Number'] == selected_team) &\n",
    "        (irrigation_data['Timestamp'] >= date_range[0]) &\n",
    "        (irrigation_data['Timestamp'] <= date_range[1])\n",
    "    ]\n",
    "\n",
    "    # Add traces for Precipitation and Recommended Irrigation\n",
    "    fig.add_trace(go.Scatter(x=filtered_data['Timestamp'], y=filtered_data['Precipitation'],\n",
    "                             mode='lines', name='Precipitation'))\n",
    "    fig.add_trace(go.Scatter(x=filtered_data['Timestamp'], y=filtered_data['Recommended Irrigation'],\n",
    "                             mode='lines', name='Recommended Irrigation'))\n",
    "\n",
    "    # Update the layout for the entire chart\n",
    "    fig.update_layout(\n",
    "        title=f\"Precipitation and Recommended Irrigation for Team {selected_team} Over Time\",\n",
    "        xaxis_title=\"Timestamp\",\n",
    "        yaxis_title=\"Water Depletion in mm\",\n",
    "        hovermode=\"x unified\"\n",
    "    )\n",
    "\n",
    "    return fig\n",
    "\n",
    "# Panel plot\n",
    "@pn.depends(team_selector.param.value, date_range_slider.param.value)\n",
    "def plot(selected_team, date_range):\n",
    "    return pn.pane.Plotly(update_graph(selected_team, date_range))\n",
    "\n",
    "# Layout the dashboard\n",
    "dashboard_irrigation = pn.Column(\n",
    "    pn.pane.Markdown(\"# Irrigation and Precipitation Dashboard\", width=1400),\n",
    "    team_selector,\n",
    "    date_range_slider,\n",
    "    plot,\n",
    "    sizing_mode='fixed'\n",
    ")\n",
    "\n",
    "\n",
    "\n",
    "# Show the dashboard\n",
    "dashboard_irrigation.servable()\n"
   ]
  },
  {
   "cell_type": "code",
   "execution_count": null,
   "id": "57bad1f3-6961-449a-ad20-084f78141c97",
   "metadata": {},
   "outputs": [],
   "source": []
  }
 ],
 "metadata": {
  "kernelspec": {
   "display_name": "Python 3 (ipykernel)",
   "language": "python",
   "name": "python3"
  },
  "language_info": {
   "codemirror_mode": {
    "name": "ipython",
    "version": 3
   },
   "file_extension": ".py",
   "mimetype": "text/x-python",
   "name": "python",
   "nbconvert_exporter": "python",
   "pygments_lexer": "ipython3",
   "version": "3.11.0"
  }
 },
 "nbformat": 4,
 "nbformat_minor": 5
}
